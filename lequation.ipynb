{
 "cells": [
  {
   "cell_type": "code",
   "execution_count": 1,
   "metadata": {},
   "outputs": [
    {
     "data": {
      "image/png": "[encoded data removed]",
      "text/plain": [
       "<PIL.PngImagePlugin.PngImageFile image mode=RGBA size=211x179 at 0x2A60CF5C5C8>"
      ]
     },
     "metadata": {},
     "output_type": "display_data"
    }
   ],
   "source": [
    "from IPython.display import display\n",
    "from PIL import Image\n",
    "img=Image.open('test05.png')\n",
    "display(img)"
   ]
  },
  {
   "cell_type": "code",
   "execution_count": 2,
   "metadata": {},
   "outputs": [
    {
     "name": "stdout",
     "output_type": "stream",
     "text": [
      "2a+b+c=4\n",
      "a+3b+2c=5\n",
      "a=6\n"
     ]
    }
   ],
   "source": [
    "import pytesseract\n",
    "text=pytesseract.image_to_string(img)\n",
    "print(text)"
   ]
  },
  {
   "cell_type": "code",
   "execution_count": 25,
   "metadata": {},
   "outputs": [
    {
     "name": "stdout",
     "output_type": "stream",
     "text": [
      "['2a+b+c=4', 'a+3b+2c=5', 'a=6']\n",
      "[2, 1, 1, 1, 3, 2, 1, 0, 0]\n"
     ]
    }
   ],
   "source": [
    "l=list()\n",
    "li=text.split('\\n')\n",
    "for i in li:\n",
    "    if 'a' in i:\n",
    "        if i[0]=='a':\n",
    "            l.append(1)\n",
    "        else:\n",
    "            l.append(int(i[i.index('a')-1]))\n",
    "    else:\n",
    "        l.append(0)\n",
    "    \n",
    "    if 'b' in i:\n",
    "        if i[0]=='b':\n",
    "            l.append(1)        \n",
    "        elif i[i.index('b')-1]=='+':\n",
    "            l.append(1)\n",
    "            \n",
    "        elif i[i.index('b')-1]=='-':\n",
    "            l.append(-1)\n",
    "        else:\n",
    "            l.append(int(i[i.index('b')-1]))    \n",
    "    else:\n",
    "        l.append(0)\n",
    "    \n",
    "    if 'c' in i:\n",
    "        if i[0]=='c':\n",
    "            l.append(1)\n",
    "        elif i[i.index('c')-1]=='+':\n",
    "            l.append(1)\n",
    "            \n",
    "        elif i[i.index('c')-1]=='-':\n",
    "            l.append(-1)\n",
    "        else:\n",
    "            l.append(int(i[i.index('c')-1]))    \n",
    "    else:\n",
    "        l.append(0)\n",
    "        "
   ]
  },
  {
   "cell_type": "code",
   "execution_count": 14,
   "metadata": {},
   "outputs": [
    {
     "name": "stdout",
     "output_type": "stream",
     "text": [
      "[4, 5, 6]\n"
     ]
    }
   ],
   "source": [
    "e=list()\n",
    "for i in range(len(text)):\n",
    "    if text[i]=='=':\n",
    "        e.append(int(text[i+1]))\n",
    "        "
   ]
  },
  {
   "cell_type": "code",
   "execution_count": 26,
   "metadata": {},
   "outputs": [
    {
     "name": "stdout",
     "output_type": "stream",
     "text": [
      "Solutions:\n",
      " [  6.  15. -23.]\n"
     ]
    }
   ],
   "source": [
    "import numpy as np \n",
    "# define matrix A using Numpy arrays \n",
    "A = np.array([[l[0], l[1], l[2]], [l[3], l[4], l[5]], [l[6], l[7], l[8]]]) \n",
    "#define matrix B \n",
    "B = np.array([e[0], e[1], e[2]]) \n",
    "# linalg.solve is the function of NumPy to solve a system of linear scalar equations \n",
    "print(\"Solutions:\\n\",np.linalg.solve(A, B )) "
   ]
  },
  {
   "cell_type": "code",
   "execution_count": null,
   "metadata": {},
   "outputs": [],
   "source": []
  }
 ],
 "metadata": {
  "kernelspec": {
   "display_name": "Python 3",
   "language": "python",
   "name": "python3"
  },
  "language_info": {
   "codemirror_mode": {
    "name": "ipython",
    "version": 3
   },
   "file_extension": ".py",
   "mimetype": "text/x-python",
   "name": "python",
   "nbconvert_exporter": "python",
   "pygments_lexer": "ipython3",
   "version": "3.7.6"
  }
 },
 "nbformat": 4,
 "nbformat_minor": 4
}
